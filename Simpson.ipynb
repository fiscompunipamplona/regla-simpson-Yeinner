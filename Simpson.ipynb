{
 "cells": [
  {
   "cell_type": "markdown",
   "metadata": {},
   "source": [
    "$\\int_{0}^{2} (x^{4}-2x+1) dx$\n"
   ]
  },
  {
   "cell_type": "code",
   "execution_count": 41,
   "metadata": {},
   "outputs": [
    {
     "name": "stdout",
     "output_type": "stream",
     "text": [
      "El valor de la integral pos Trapecio es I = 4.374130474793567\n",
      "El error es e = 0.5879437546916555\n"
     ]
    }
   ],
   "source": [
    "N=1000\n",
    "a=0\n",
    "b=2\n",
    "h=(b-a)/N\n",
    "it=0\n",
    "for k in range(1,N-1):\n",
    "    x=a+k*h\n",
    "    y=(x**4-(2*x)+1)\n",
    "    it+=h*y\n",
    "It=(h/2)*(a**4-(2*a)+1+b**4-(2*b)+1)+it\n",
    "print('El valor de la integral pos Trapecio es I =',It)\n",
    "error=abs((1-(It)*(1/4.4)))\n",
    "print('El error es e =',error*100)"
   ]
  },
  {
   "cell_type": "code",
   "execution_count": 43,
   "metadata": {},
   "outputs": [
    {
     "name": "stdout",
     "output_type": "stream",
     "text": [
      "El valor de la integral por Simpson es I = 4.400000000004267\n",
      "El error es e = 9.696687897076117e-11\n"
     ]
    }
   ],
   "source": [
    "N=1000\n",
    "a=0\n",
    "b=2\n",
    "h=(b-a)/N\n",
    "it=0\n",
    "i=0\n",
    "fa=(a**4-(2*a)+1)\n",
    "fb=(b**4-(2*b)+1)\n",
    "for k in range(1,N//2+1):\n",
    "    x=a+(2*k-1)*h\n",
    "    y=(x**4-(2*x)+1)\n",
    "    it+=y\n",
    "for ks in range(1,((N//2)-1)+1):\n",
    "    x=a+2*ks*h\n",
    "    z=(x**4-(2*x)+1)\n",
    "    i+=z\n",
    "It=(h/3)*(fa+fb+4*it+2*i)\n",
    "print('El valor de la integral por Simpson es I =',It)\n",
    "error=abs((1-(It)*(1/4.4)))\n",
    "print('El error es e =',error*100)"
   ]
  },
  {
   "cell_type": "markdown",
   "metadata": {},
   "source": [
    "Comparando, vemos que el método de Simpson nos da un resultado mucho mas exacto que el método del trapecio. Esto es debio a que el método de Simpson usa polinomios de segundo grado, lo que nos dan curvas suaves, esto hace que la aproximación sea mejor."
   ]
  },
  {
   "cell_type": "markdown",
   "metadata": {},
   "source": [
    "# PATRÓN DE DIFRACCIÓN POR MÉTODO DE SIMPSON\n",
    "$j_{m}(x)=\\int_{0}^{\\pi} (cos (m \\theta -xsen \\theta) d\\theta$"
   ]
  },
  {
   "cell_type": "code",
   "execution_count": 87,
   "metadata": {},
   "outputs": [
    {
     "name": "stdout",
     "output_type": "stream",
     "text": [
      "El valor de la integral por Simpson es I = 1.0000000000000002\n",
      "El valor de la integral por Simpson es I = 1.7645310198913018\n",
      "El valor de la integral por Simpson es I = 1.9877551323658709\n",
      "El valor de la integral por Simpson es I = 1.727036510797269\n",
      "El valor de la integral por Simpson es I = 1.3292200342667575\n",
      "El valor de la integral por Simpson es I = 1.1509565962857529\n",
      "El valor de la integral por Simpson es I = 1.3009351868700816\n",
      "El valor de la integral por Simpson es I = 1.6003477907229684\n",
      "El valor de la integral por Simpson es I = 1.771331931193856\n",
      "El valor de la integral por Simpson es I = 1.6803316533443151\n",
      "El valor de la integral por Simpson es I = 1.4337292222263012\n",
      "El valor de la integral por Simpson es I = 1.2618722551524393\n",
      "El valor de la integral por Simpson es I = 1.3088948992826066\n",
      "El valor de la integral por Simpson es I = 1.5151543349930112\n",
      "El valor de la integral por Simpson es I = 1.6855611444368033\n",
      "El valor de la integral por Simpson es I = 1.6706700049433572\n",
      "El valor de la integral por Simpson es I = 1.4951042642930599\n",
      "El valor de la integral por Simpson es I = 1.3245833454752096\n",
      "El valor de la integral por Simpson es I = 1.3105608730865594\n",
      "El valor de la integral por Simpson es I = 1.4565236460795445\n"
     ]
    }
   ],
   "source": [
    "from numpy import*\n",
    "from math import*\n",
    "N=1000\n",
    "a=0\n",
    "b=pi\n",
    "h=(b-a)/N\n",
    "it=0\n",
    "i=0\n",
    "m=0\n",
    "for x in range(0,20):\n",
    "    fa=cos(m*a-x*sin(a))\n",
    "    fb=cos(m*b-x*sin(b))\n",
    "    for k in range(1,N//2+1):\n",
    "        the=a+(2*k-1)*h\n",
    "        y=cos((m*the)-(x*sin(the)))\n",
    "        it+=y\n",
    "    #print(it)    \n",
    "    for ks in range(1,((N//2)-1)+1):\n",
    "        the=a+2*ks*h\n",
    "        z=cos((m*the)-(x*sin(the)))\n",
    "        i+=z\n",
    "    #print(i)    \n",
    "    \n",
    "    It=(h/3)*(fa+fb+4*it+2*i)\n",
    "    I=It/pi\n",
    "    print('El valor de la integral por Simpson es I =',I)"
   ]
  },
  {
   "cell_type": "code",
   "execution_count": null,
   "metadata": {},
   "outputs": [],
   "source": []
  },
  {
   "cell_type": "code",
   "execution_count": null,
   "metadata": {},
   "outputs": [],
   "source": []
  }
 ],
 "metadata": {
  "kernelspec": {
   "display_name": "Python 3",
   "language": "python",
   "name": "python3"
  },
  "language_info": {
   "codemirror_mode": {
    "name": "ipython",
    "version": 3
   },
   "file_extension": ".py",
   "mimetype": "text/x-python",
   "name": "python",
   "nbconvert_exporter": "python",
   "pygments_lexer": "ipython3",
   "version": "3.5.2"
  }
 },
 "nbformat": 4,
 "nbformat_minor": 2
}
